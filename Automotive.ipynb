{
 "cells": [
  {
   "cell_type": "code",
   "execution_count": 1,
   "id": "5d70ac84",
   "metadata": {},
   "outputs": [],
   "source": [
    "import numpy as np\n",
    "import pandas as pd\n",
    "import matplotlib.pyplot as plt\n",
    "import seaborn as sns\n",
    "from sklearn.model_selection import train_test_split\n",
    "from sklearn.ensemble import RandomForestClassifier\n",
    "from sklearn.model_selection import GridSearchCV\n",
    "from sklearn.metrics import confusion_matrix,accuracy_score,roc_curve,classification_report"
   ]
  },
  {
   "cell_type": "markdown",
   "id": "1b375fdb",
   "metadata": {},
   "source": [
    "## Problem statement :  Automotive vehicles engine health prediction for maintenance"
   ]
  },
  {
   "cell_type": "markdown",
   "id": "4ae9f7c8",
   "metadata": {},
   "source": [
    "## Step 1 : Data Gathering"
   ]
  },
  {
   "cell_type": "code",
   "execution_count": 2,
   "id": "31908df4",
   "metadata": {
    "scrolled": false
   },
   "outputs": [
    {
     "data": {
      "text/html": [
       "<div>\n",
       "<style scoped>\n",
       "    .dataframe tbody tr th:only-of-type {\n",
       "        vertical-align: middle;\n",
       "    }\n",
       "\n",
       "    .dataframe tbody tr th {\n",
       "        vertical-align: top;\n",
       "    }\n",
       "\n",
       "    .dataframe thead th {\n",
       "        text-align: right;\n",
       "    }\n",
       "</style>\n",
       "<table border=\"1\" class=\"dataframe\">\n",
       "  <thead>\n",
       "    <tr style=\"text-align: right;\">\n",
       "      <th></th>\n",
       "      <th>Engine rpm</th>\n",
       "      <th>Lub oil pressure</th>\n",
       "      <th>Fuel pressure</th>\n",
       "      <th>Coolant pressure</th>\n",
       "      <th>lub oil temp</th>\n",
       "      <th>Coolant temp</th>\n",
       "      <th>Engine Condition</th>\n",
       "    </tr>\n",
       "  </thead>\n",
       "  <tbody>\n",
       "    <tr>\n",
       "      <th>0</th>\n",
       "      <td>700</td>\n",
       "      <td>2.493592</td>\n",
       "      <td>11.790927</td>\n",
       "      <td>3.178981</td>\n",
       "      <td>84.144163</td>\n",
       "      <td>81.632187</td>\n",
       "      <td>1</td>\n",
       "    </tr>\n",
       "    <tr>\n",
       "      <th>1</th>\n",
       "      <td>876</td>\n",
       "      <td>2.941606</td>\n",
       "      <td>16.193866</td>\n",
       "      <td>2.464504</td>\n",
       "      <td>77.640934</td>\n",
       "      <td>82.445724</td>\n",
       "      <td>0</td>\n",
       "    </tr>\n",
       "    <tr>\n",
       "      <th>2</th>\n",
       "      <td>520</td>\n",
       "      <td>2.961746</td>\n",
       "      <td>6.553147</td>\n",
       "      <td>1.064347</td>\n",
       "      <td>77.752266</td>\n",
       "      <td>79.645777</td>\n",
       "      <td>1</td>\n",
       "    </tr>\n",
       "    <tr>\n",
       "      <th>3</th>\n",
       "      <td>473</td>\n",
       "      <td>3.707835</td>\n",
       "      <td>19.510172</td>\n",
       "      <td>3.727455</td>\n",
       "      <td>74.129907</td>\n",
       "      <td>71.774629</td>\n",
       "      <td>1</td>\n",
       "    </tr>\n",
       "    <tr>\n",
       "      <th>4</th>\n",
       "      <td>619</td>\n",
       "      <td>5.672919</td>\n",
       "      <td>15.738871</td>\n",
       "      <td>2.052251</td>\n",
       "      <td>78.396989</td>\n",
       "      <td>87.000225</td>\n",
       "      <td>0</td>\n",
       "    </tr>\n",
       "    <tr>\n",
       "      <th>5</th>\n",
       "      <td>1221</td>\n",
       "      <td>3.989226</td>\n",
       "      <td>6.679231</td>\n",
       "      <td>2.214250</td>\n",
       "      <td>76.401152</td>\n",
       "      <td>75.669818</td>\n",
       "      <td>0</td>\n",
       "    </tr>\n",
       "    <tr>\n",
       "      <th>6</th>\n",
       "      <td>716</td>\n",
       "      <td>3.568896</td>\n",
       "      <td>5.312266</td>\n",
       "      <td>2.461067</td>\n",
       "      <td>83.646589</td>\n",
       "      <td>79.792411</td>\n",
       "      <td>1</td>\n",
       "    </tr>\n",
       "    <tr>\n",
       "      <th>7</th>\n",
       "      <td>729</td>\n",
       "      <td>3.845166</td>\n",
       "      <td>10.191126</td>\n",
       "      <td>2.362998</td>\n",
       "      <td>77.921202</td>\n",
       "      <td>71.671761</td>\n",
       "      <td>1</td>\n",
       "    </tr>\n",
       "    <tr>\n",
       "      <th>8</th>\n",
       "      <td>845</td>\n",
       "      <td>4.877239</td>\n",
       "      <td>3.638269</td>\n",
       "      <td>3.525604</td>\n",
       "      <td>76.301626</td>\n",
       "      <td>70.496024</td>\n",
       "      <td>0</td>\n",
       "    </tr>\n",
       "    <tr>\n",
       "      <th>9</th>\n",
       "      <td>824</td>\n",
       "      <td>3.741228</td>\n",
       "      <td>7.626214</td>\n",
       "      <td>1.301032</td>\n",
       "      <td>77.066520</td>\n",
       "      <td>85.143297</td>\n",
       "      <td>0</td>\n",
       "    </tr>\n",
       "  </tbody>\n",
       "</table>\n",
       "</div>"
      ],
      "text/plain": [
       "   Engine rpm  Lub oil pressure  Fuel pressure  Coolant pressure  \\\n",
       "0         700          2.493592      11.790927          3.178981   \n",
       "1         876          2.941606      16.193866          2.464504   \n",
       "2         520          2.961746       6.553147          1.064347   \n",
       "3         473          3.707835      19.510172          3.727455   \n",
       "4         619          5.672919      15.738871          2.052251   \n",
       "5        1221          3.989226       6.679231          2.214250   \n",
       "6         716          3.568896       5.312266          2.461067   \n",
       "7         729          3.845166      10.191126          2.362998   \n",
       "8         845          4.877239       3.638269          3.525604   \n",
       "9         824          3.741228       7.626214          1.301032   \n",
       "\n",
       "   lub oil temp  Coolant temp  Engine Condition  \n",
       "0     84.144163     81.632187                 1  \n",
       "1     77.640934     82.445724                 0  \n",
       "2     77.752266     79.645777                 1  \n",
       "3     74.129907     71.774629                 1  \n",
       "4     78.396989     87.000225                 0  \n",
       "5     76.401152     75.669818                 0  \n",
       "6     83.646589     79.792411                 1  \n",
       "7     77.921202     71.671761                 1  \n",
       "8     76.301626     70.496024                 0  \n",
       "9     77.066520     85.143297                 0  "
      ]
     },
     "execution_count": 2,
     "metadata": {},
     "output_type": "execute_result"
    }
   ],
   "source": [
    "df = pd.read_csv('engine_data.csv')\n",
    "df.head(10)"
   ]
  },
  {
   "cell_type": "markdown",
   "id": "f0dfa2ec",
   "metadata": {},
   "source": [
    "##  Step 2:EDA - Read and explore the data"
   ]
  },
  {
   "cell_type": "code",
   "execution_count": 3,
   "id": "d1d81642",
   "metadata": {},
   "outputs": [
    {
     "name": "stdout",
     "output_type": "stream",
     "text": [
      "<class 'pandas.core.frame.DataFrame'>\n",
      "RangeIndex: 19535 entries, 0 to 19534\n",
      "Data columns (total 7 columns):\n",
      " #   Column            Non-Null Count  Dtype  \n",
      "---  ------            --------------  -----  \n",
      " 0   Engine rpm        19535 non-null  int64  \n",
      " 1   Lub oil pressure  19535 non-null  float64\n",
      " 2   Fuel pressure     19535 non-null  float64\n",
      " 3   Coolant pressure  19535 non-null  float64\n",
      " 4   lub oil temp      19535 non-null  float64\n",
      " 5   Coolant temp      19535 non-null  float64\n",
      " 6   Engine Condition  19535 non-null  int64  \n",
      "dtypes: float64(5), int64(2)\n",
      "memory usage: 1.0 MB\n"
     ]
    }
   ],
   "source": [
    "df.info()"
   ]
  },
  {
   "cell_type": "code",
   "execution_count": 4,
   "id": "20560f0c",
   "metadata": {},
   "outputs": [
    {
     "data": {
      "text/html": [
       "<div>\n",
       "<style scoped>\n",
       "    .dataframe tbody tr th:only-of-type {\n",
       "        vertical-align: middle;\n",
       "    }\n",
       "\n",
       "    .dataframe tbody tr th {\n",
       "        vertical-align: top;\n",
       "    }\n",
       "\n",
       "    .dataframe thead th {\n",
       "        text-align: right;\n",
       "    }\n",
       "</style>\n",
       "<table border=\"1\" class=\"dataframe\">\n",
       "  <thead>\n",
       "    <tr style=\"text-align: right;\">\n",
       "      <th></th>\n",
       "      <th>Engine rpm</th>\n",
       "      <th>Lub oil pressure</th>\n",
       "      <th>Fuel pressure</th>\n",
       "      <th>Coolant pressure</th>\n",
       "      <th>lub oil temp</th>\n",
       "      <th>Coolant temp</th>\n",
       "      <th>Engine Condition</th>\n",
       "    </tr>\n",
       "  </thead>\n",
       "  <tbody>\n",
       "    <tr>\n",
       "      <th>count</th>\n",
       "      <td>19535.000000</td>\n",
       "      <td>19535.000000</td>\n",
       "      <td>19535.000000</td>\n",
       "      <td>19535.000000</td>\n",
       "      <td>19535.000000</td>\n",
       "      <td>19535.000000</td>\n",
       "      <td>19535.000000</td>\n",
       "    </tr>\n",
       "    <tr>\n",
       "      <th>mean</th>\n",
       "      <td>791.239263</td>\n",
       "      <td>3.303775</td>\n",
       "      <td>6.655615</td>\n",
       "      <td>2.335369</td>\n",
       "      <td>77.643420</td>\n",
       "      <td>78.427433</td>\n",
       "      <td>0.630509</td>\n",
       "    </tr>\n",
       "    <tr>\n",
       "      <th>std</th>\n",
       "      <td>267.611193</td>\n",
       "      <td>1.021643</td>\n",
       "      <td>2.761021</td>\n",
       "      <td>1.036382</td>\n",
       "      <td>3.110984</td>\n",
       "      <td>6.206749</td>\n",
       "      <td>0.482679</td>\n",
       "    </tr>\n",
       "    <tr>\n",
       "      <th>min</th>\n",
       "      <td>61.000000</td>\n",
       "      <td>0.003384</td>\n",
       "      <td>0.003187</td>\n",
       "      <td>0.002483</td>\n",
       "      <td>71.321974</td>\n",
       "      <td>61.673325</td>\n",
       "      <td>0.000000</td>\n",
       "    </tr>\n",
       "    <tr>\n",
       "      <th>25%</th>\n",
       "      <td>593.000000</td>\n",
       "      <td>2.518815</td>\n",
       "      <td>4.916886</td>\n",
       "      <td>1.600466</td>\n",
       "      <td>75.725990</td>\n",
       "      <td>73.895421</td>\n",
       "      <td>0.000000</td>\n",
       "    </tr>\n",
       "    <tr>\n",
       "      <th>50%</th>\n",
       "      <td>746.000000</td>\n",
       "      <td>3.162035</td>\n",
       "      <td>6.201720</td>\n",
       "      <td>2.166883</td>\n",
       "      <td>76.817350</td>\n",
       "      <td>78.346662</td>\n",
       "      <td>1.000000</td>\n",
       "    </tr>\n",
       "    <tr>\n",
       "      <th>75%</th>\n",
       "      <td>934.000000</td>\n",
       "      <td>4.055272</td>\n",
       "      <td>7.744973</td>\n",
       "      <td>2.848840</td>\n",
       "      <td>78.071691</td>\n",
       "      <td>82.915411</td>\n",
       "      <td>1.000000</td>\n",
       "    </tr>\n",
       "    <tr>\n",
       "      <th>max</th>\n",
       "      <td>2239.000000</td>\n",
       "      <td>7.265566</td>\n",
       "      <td>21.138326</td>\n",
       "      <td>7.478505</td>\n",
       "      <td>89.580796</td>\n",
       "      <td>195.527912</td>\n",
       "      <td>1.000000</td>\n",
       "    </tr>\n",
       "  </tbody>\n",
       "</table>\n",
       "</div>"
      ],
      "text/plain": [
       "         Engine rpm  Lub oil pressure  Fuel pressure  Coolant pressure  \\\n",
       "count  19535.000000      19535.000000   19535.000000      19535.000000   \n",
       "mean     791.239263          3.303775       6.655615          2.335369   \n",
       "std      267.611193          1.021643       2.761021          1.036382   \n",
       "min       61.000000          0.003384       0.003187          0.002483   \n",
       "25%      593.000000          2.518815       4.916886          1.600466   \n",
       "50%      746.000000          3.162035       6.201720          2.166883   \n",
       "75%      934.000000          4.055272       7.744973          2.848840   \n",
       "max     2239.000000          7.265566      21.138326          7.478505   \n",
       "\n",
       "       lub oil temp  Coolant temp  Engine Condition  \n",
       "count  19535.000000  19535.000000      19535.000000  \n",
       "mean      77.643420     78.427433          0.630509  \n",
       "std        3.110984      6.206749          0.482679  \n",
       "min       71.321974     61.673325          0.000000  \n",
       "25%       75.725990     73.895421          0.000000  \n",
       "50%       76.817350     78.346662          1.000000  \n",
       "75%       78.071691     82.915411          1.000000  \n",
       "max       89.580796    195.527912          1.000000  "
      ]
     },
     "execution_count": 4,
     "metadata": {},
     "output_type": "execute_result"
    }
   ],
   "source": [
    "df.describe()"
   ]
  },
  {
   "cell_type": "code",
   "execution_count": 5,
   "id": "2008f492",
   "metadata": {},
   "outputs": [
    {
     "data": {
      "text/plain": [
       "Engine rpm          0\n",
       "Lub oil pressure    0\n",
       "Fuel pressure       0\n",
       "Coolant pressure    0\n",
       "lub oil temp        0\n",
       "Coolant temp        0\n",
       "Engine Condition    0\n",
       "dtype: int64"
      ]
     },
     "execution_count": 5,
     "metadata": {},
     "output_type": "execute_result"
    }
   ],
   "source": [
    "df.isna().sum()"
   ]
  },
  {
   "cell_type": "code",
   "execution_count": 6,
   "id": "0de5e56a",
   "metadata": {},
   "outputs": [
    {
     "data": {
      "text/plain": [
       "1    12317\n",
       "0     7218\n",
       "Name: Engine Condition, dtype: int64"
      ]
     },
     "execution_count": 6,
     "metadata": {},
     "output_type": "execute_result"
    }
   ],
   "source": [
    "df['Engine Condition'].value_counts()"
   ]
  },
  {
   "cell_type": "markdown",
   "id": "48181366",
   "metadata": {},
   "source": [
    "## Step 3: Train Test split the data"
   ]
  },
  {
   "cell_type": "code",
   "execution_count": 7,
   "id": "2fab7a57",
   "metadata": {},
   "outputs": [],
   "source": [
    "def train_test_split_and_features(df):\n",
    "    y = df[\"Engine Condition\"]\n",
    "    x = df.drop(['Engine Condition'], axis=1)\n",
    "    x_train, x_test, y_train, y_test = train_test_split(x, y, test_size=0.20, random_state = 0)\n",
    "    print(x.head(5))\n",
    "    print(x.columns)\n",
    "    features = list(x.columns)\n",
    "    return x_train, x_test, y_train, y_test,features"
   ]
  },
  {
   "cell_type": "code",
   "execution_count": 8,
   "id": "cd3a556d",
   "metadata": {},
   "outputs": [
    {
     "name": "stdout",
     "output_type": "stream",
     "text": [
      "   Engine rpm  Lub oil pressure  Fuel pressure  Coolant pressure  \\\n",
      "0         700          2.493592      11.790927          3.178981   \n",
      "1         876          2.941606      16.193866          2.464504   \n",
      "2         520          2.961746       6.553147          1.064347   \n",
      "3         473          3.707835      19.510172          3.727455   \n",
      "4         619          5.672919      15.738871          2.052251   \n",
      "\n",
      "   lub oil temp  Coolant temp  \n",
      "0     84.144163     81.632187  \n",
      "1     77.640934     82.445724  \n",
      "2     77.752266     79.645777  \n",
      "3     74.129907     71.774629  \n",
      "4     78.396989     87.000225  \n",
      "Index(['Engine rpm', 'Lub oil pressure', 'Fuel pressure', 'Coolant pressure',\n",
      "       'lub oil temp', 'Coolant temp'],\n",
      "      dtype='object')\n"
     ]
    }
   ],
   "source": [
    "x_train, x_test, y_train, y_test,features = train_test_split_and_features(df)"
   ]
  },
  {
   "cell_type": "markdown",
   "id": "d858485b",
   "metadata": {},
   "source": [
    "## Step 4: Fit and evaluate model"
   ]
  },
  {
   "cell_type": "code",
   "execution_count": 9,
   "id": "269cddec",
   "metadata": {},
   "outputs": [],
   "source": [
    "\n",
    "def fit_and_evaluate_model(x_train, x_test, y_train, y_test,max_depth=5,min_samples_split=0.01,max_features=0.8,max_samples=0.8):\n",
    "    random_forest =  RandomForestClassifier(random_state=0,\\\n",
    "                                           max_depth=max_depth,\\\n",
    "                                           min_samples_split=min_samples_split,\\\n",
    "                                           max_features=max_features,\n",
    "                                           max_samples=max_samples)\n",
    "\n",
    "    model = random_forest.fit(x_train, y_train)\n",
    "    random_forest_predict = random_forest.predict(x_test)\n",
    "    random_forest_conf_matrix = confusion_matrix(y_test, random_forest_predict)\n",
    "    random_forest_acc_score = accuracy_score(y_test, random_forest_predict)\n",
    "    print(\"confussion matrix\")\n",
    "    print(random_forest_conf_matrix)\n",
    "    print(\"\\n\")\n",
    "    print(\"Accuracy of Random Forest:\",random_forest_acc_score*100,'\\n')\n",
    "    print(classification_report(y_test,random_forest_predict))\n",
    "    return model\n"
   ]
  },
  {
   "cell_type": "code",
   "execution_count": 10,
   "id": "9b28d5bc",
   "metadata": {},
   "outputs": [
    {
     "name": "stdout",
     "output_type": "stream",
     "text": [
      "confussion matrix\n",
      "[[ 507  904]\n",
      " [ 359 2137]]\n",
      "\n",
      "\n",
      "Accuracy of Random Forest: 67.67340670591247 \n",
      "\n",
      "              precision    recall  f1-score   support\n",
      "\n",
      "           0       0.59      0.36      0.45      1411\n",
      "           1       0.70      0.86      0.77      2496\n",
      "\n",
      "    accuracy                           0.68      3907\n",
      "   macro avg       0.64      0.61      0.61      3907\n",
      "weighted avg       0.66      0.68      0.65      3907\n",
      "\n"
     ]
    }
   ],
   "source": [
    "model = fit_and_evaluate_model(x_train, x_test, y_train, y_test)"
   ]
  },
  {
   "cell_type": "code",
   "execution_count": 11,
   "id": "bf133545",
   "metadata": {},
   "outputs": [],
   "source": [
    "importances = pd.DataFrame(model.feature_importances_)\n",
    "importances['features'] = features\n",
    "importances.columns = ['importance','feature']\n",
    "importances.sort_values(by = 'importance', ascending= True,inplace=True)"
   ]
  },
  {
   "cell_type": "code",
   "execution_count": 13,
   "id": "08c5f864",
   "metadata": {},
   "outputs": [
    {
     "data": {
      "text/html": [
       "<div>\n",
       "<style scoped>\n",
       "    .dataframe tbody tr th:only-of-type {\n",
       "        vertical-align: middle;\n",
       "    }\n",
       "\n",
       "    .dataframe tbody tr th {\n",
       "        vertical-align: top;\n",
       "    }\n",
       "\n",
       "    .dataframe thead th {\n",
       "        text-align: right;\n",
       "    }\n",
       "</style>\n",
       "<table border=\"1\" class=\"dataframe\">\n",
       "  <thead>\n",
       "    <tr style=\"text-align: right;\">\n",
       "      <th></th>\n",
       "      <th>importance</th>\n",
       "      <th>feature</th>\n",
       "    </tr>\n",
       "  </thead>\n",
       "  <tbody>\n",
       "    <tr>\n",
       "      <th>5</th>\n",
       "      <td>0.017678</td>\n",
       "      <td>Coolant temp</td>\n",
       "    </tr>\n",
       "    <tr>\n",
       "      <th>3</th>\n",
       "      <td>0.024955</td>\n",
       "      <td>Coolant pressure</td>\n",
       "    </tr>\n",
       "    <tr>\n",
       "      <th>1</th>\n",
       "      <td>0.060382</td>\n",
       "      <td>Lub oil pressure</td>\n",
       "    </tr>\n",
       "    <tr>\n",
       "      <th>4</th>\n",
       "      <td>0.097345</td>\n",
       "      <td>lub oil temp</td>\n",
       "    </tr>\n",
       "    <tr>\n",
       "      <th>2</th>\n",
       "      <td>0.163428</td>\n",
       "      <td>Fuel pressure</td>\n",
       "    </tr>\n",
       "    <tr>\n",
       "      <th>0</th>\n",
       "      <td>0.636212</td>\n",
       "      <td>Engine rpm</td>\n",
       "    </tr>\n",
       "  </tbody>\n",
       "</table>\n",
       "</div>"
      ],
      "text/plain": [
       "   importance           feature\n",
       "5    0.017678      Coolant temp\n",
       "3    0.024955  Coolant pressure\n",
       "1    0.060382  Lub oil pressure\n",
       "4    0.097345      lub oil temp\n",
       "2    0.163428     Fuel pressure\n",
       "0    0.636212        Engine rpm"
      ]
     },
     "execution_count": 13,
     "metadata": {},
     "output_type": "execute_result"
    }
   ],
   "source": [
    "importances.head(10)"
   ]
  },
  {
   "cell_type": "markdown",
   "id": "ef5708ae",
   "metadata": {},
   "source": [
    "## Step 5: Feature Importance"
   ]
  },
  {
   "cell_type": "code",
   "execution_count": 12,
   "id": "6d3191cf",
   "metadata": {},
   "outputs": [
    {
     "data": {
      "text/plain": [
       "<BarContainer object of 6 artists>"
      ]
     },
     "execution_count": 12,
     "metadata": {},
     "output_type": "execute_result"
    },
    {
     "data": {
      "image/png": "[encoded data removed]",
      "text/plain": [
       "<Figure size 500x300 with 1 Axes>"
      ]
     },
     "metadata": {},
     "output_type": "display_data"
    }
   ],
   "source": [
    "plt.figure(figsize=(5, 3))\n",
    "plt.barh(importances.feature, importances.importance)"
   ]
  },
  {
   "cell_type": "code",
   "execution_count": null,
   "id": "e8b4ce08",
   "metadata": {},
   "outputs": [],
   "source": []
  }
 ],
 "metadata": {
  "kernelspec": {
   "display_name": "Python 3 (ipykernel)",
   "language": "python",
   "name": "python3"
  },
  "language_info": {
   "codemirror_mode": {
    "name": "ipython",
    "version": 3
   },
   "file_extension": ".py",
   "mimetype": "text/x-python",
   "name": "python",
   "nbconvert_exporter": "python",
   "pygments_lexer": "ipython3",
   "version": "3.10.9"
  }
 },
 "nbformat": 4,
 "nbformat_minor": 5
}
